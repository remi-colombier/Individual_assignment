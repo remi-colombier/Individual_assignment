{
 "cells": [
  {
   "cell_type": "markdown",
   "id": "3062be3c",
   "metadata": {},
   "source": [
    "###                                           Statistical Learning individual assignment - Rémi Colombier"
   ]
  },
  {
   "cell_type": "markdown",
   "id": "579f58db",
   "metadata": {},
   "source": [
    "###### Load libraries"
   ]
  },
  {
   "cell_type": "code",
   "execution_count": 1,
   "id": "ca4207d2",
   "metadata": {},
   "outputs": [],
   "source": [
    "import numpy as np\n",
    "import pandas as pd\n",
    "from sklearn.tree import DecisionTreeClassifier\n",
    "from sklearn.ensemble import RandomForestClassifier\n",
    "from sklearn.ensemble import RandomForestRegressor\n",
    "from sklearn.model_selection import train_test_split\n",
    "from sklearn.svm import SVC\n",
    "from sklearn.metrics import accuracy_score, roc_auc_score\n",
    "from sklearn.metrics import confusion_matrix\n",
    "from sklearn.metrics import plot_confusion_matrix\n",
    "from sklearn.model_selection import cross_val_score  \n",
    "import seaborn as sns\n",
    "from sklearn.metrics import precision_score, recall_score\n",
    "from sklearn.neural_network import MLPClassifier\n",
    "from sklearn.linear_model import LogisticRegression\n",
    "from sklearn.neighbors import KNeighborsClassifier\n",
    "from sklearn.svm import LinearSVC\n",
    "from mlxtend.feature_selection import SequentialFeatureSelector as sfs\n",
    "from sklearn.metrics import accuracy_score as acc\n",
    "from sklearn.tree import DecisionTreeClassifier\n",
    "from sklearn.model_selection import GridSearchCV\n",
    "from sklearn import metrics\n",
    "from sklearn import svm\n",
    "\n",
    "from sklearn.svm import SVC\n",
    "from sklearn.datasets import load_iris\n",
    "from sklearn.datasets import make_classification\n",
    "from sklearn.model_selection import train_test_split\n",
    "from sklearn.model_selection import cross_val_score\n",
    "from sklearn.metrics import confusion_matrix\n",
    "from sklearn.metrics import classification_report"
   ]
  },
  {
   "cell_type": "code",
   "execution_count": 2,
   "id": "17dcfd59",
   "metadata": {},
   "outputs": [],
   "source": [
    "#read the data from csv\n",
    "data = pd.read_csv(\"C:/Users/rcolombier/OneDrive/Documents/Statistical machine learning/individual assignment/credit_default_train.csv\")"
   ]
  },
  {
   "cell_type": "code",
   "execution_count": 17,
   "id": "e998c46f",
   "metadata": {},
   "outputs": [
    {
     "data": {
      "text/plain": [
       "cust_id                         0\n",
       "LIMIT_BAL                     202\n",
       "SEX                           161\n",
       "EDUCATION                     199\n",
       "MARRIAGE                      170\n",
       "AGE                           214\n",
       "PAY_0                         195\n",
       "PAY_2                         219\n",
       "PAY_3                         217\n",
       "PAY_4                         199\n",
       "PAY_5                         185\n",
       "PAY_6                         203\n",
       "BILL_AMT1                     185\n",
       "BILL_AMT2                     209\n",
       "BILL_AMT3                     175\n",
       "BILL_AMT4                     165\n",
       "BILL_AMT5                     181\n",
       "BILL_AMT6                     197\n",
       "PAY_AMT1                      204\n",
       "PAY_AMT2                      184\n",
       "PAY_AMT3                      212\n",
       "PAY_AMT4                      197\n",
       "PAY_AMT5                      179\n",
       "PAY_AMT6                      196\n",
       "default.payment.next.month      0\n",
       "dtype: int64"
      ]
     },
     "execution_count": 17,
     "metadata": {},
     "output_type": "execute_result"
    }
   ],
   "source": [
    "#check the null values\n",
    "data.isna().sum()"
   ]
  },
  {
   "cell_type": "code",
   "execution_count": 3,
   "id": "262a33b9",
   "metadata": {},
   "outputs": [],
   "source": [
    "#fill all the na values in order to run the algorithm\n",
    "data = data.fillna(0)"
   ]
  },
  {
   "cell_type": "markdown",
   "id": "1d48b28b",
   "metadata": {},
   "source": [
    "### Run the five algorithms without features selection & cross validation"
   ]
  },
  {
   "cell_type": "code",
   "execution_count": 4,
   "id": "6f7c7f39",
   "metadata": {},
   "outputs": [],
   "source": [
    "#create train and test set\n",
    "X = data.iloc[:,:-1].values\n",
    "y = data.iloc[:,-1].values\n",
    "\n",
    "X_train,X_test,y_train,y_test = train_test_split(X,y,test_size = 0.2,random_state = 42)"
   ]
  },
  {
   "cell_type": "code",
   "execution_count": 33,
   "id": "40c4a7cb",
   "metadata": {},
   "outputs": [],
   "source": [
    "#initialize decision tree, logistic, random forest and knn algorithm \n",
    "decision_tree = DecisionTreeClassifier()\n",
    "logistic = LogisticRegression()\n",
    "random_forest = RandomForestClassifier()\n",
    "knn = KNeighborsClassifier(n_neighbors = 3)"
   ]
  },
  {
   "cell_type": "code",
   "execution_count": 34,
   "id": "a4237a87",
   "metadata": {},
   "outputs": [],
   "source": [
    "models = {\n",
    "    \"logistic\" : logistic,\n",
    "    \"decision_tree\" : decision_tree,\n",
    "    \"random_forest\": random_forest, \n",
    "    \"knn\": knn \n",
    "}"
   ]
  },
  {
   "cell_type": "code",
   "execution_count": 35,
   "id": "baf1c273",
   "metadata": {
    "scrolled": true
   },
   "outputs": [
    {
     "name": "stderr",
     "output_type": "stream",
     "text": [
      "C:\\tools\\Anaconda3\\envs\\py\\lib\\site-packages\\sklearn\\linear_model\\_logistic.py:763: ConvergenceWarning: lbfgs failed to converge (status=1):\n",
      "STOP: TOTAL NO. of ITERATIONS REACHED LIMIT.\n",
      "\n",
      "Increase the number of iterations (max_iter) or scale the data as shown in:\n",
      "    https://scikit-learn.org/stable/modules/preprocessing.html\n",
      "Please also refer to the documentation for alternative solver options:\n",
      "    https://scikit-learn.org/stable/modules/linear_model.html#logistic-regression\n",
      "  n_iter_i = _check_optimize_result(\n"
     ]
    }
   ],
   "source": [
    "#fitting the models with the for loop\n",
    "for model in models:\n",
    "    models[model].fit(X_train,y_train)"
   ]
  },
  {
   "cell_type": "code",
   "execution_count": 36,
   "id": "1c587d34",
   "metadata": {},
   "outputs": [],
   "source": [
    "#train the model in the train set for the 4 algorithms and compute the accuracy score\n",
    "performances_training = {}\n",
    "for model in models:\n",
    "    predictions = models[model].predict(X_train)\n",
    "    probabilities = pd.DataFrame(models[model].predict_proba(X_train))[1]\n",
    "    accuracy = accuracy_score(y_train, predictions)\n",
    "    auc = roc_auc_score(y_train, predictions)\n",
    "    performances_training[model] = {\"Accuracy\":accuracy, \"AUC\": auc}"
   ]
  },
  {
   "cell_type": "code",
   "execution_count": 37,
   "id": "6a11a177",
   "metadata": {
    "scrolled": true
   },
   "outputs": [
    {
     "data": {
      "text/html": [
       "<div>\n",
       "<style scoped>\n",
       "    .dataframe tbody tr th:only-of-type {\n",
       "        vertical-align: middle;\n",
       "    }\n",
       "\n",
       "    .dataframe tbody tr th {\n",
       "        vertical-align: top;\n",
       "    }\n",
       "\n",
       "    .dataframe thead th {\n",
       "        text-align: right;\n",
       "    }\n",
       "</style>\n",
       "<table border=\"1\" class=\"dataframe\">\n",
       "  <thead>\n",
       "    <tr style=\"text-align: right;\">\n",
       "      <th></th>\n",
       "      <th>logistic</th>\n",
       "      <th>decision_tree</th>\n",
       "      <th>random_forest</th>\n",
       "      <th>knn</th>\n",
       "    </tr>\n",
       "  </thead>\n",
       "  <tbody>\n",
       "    <tr>\n",
       "      <th>Accuracy</th>\n",
       "      <td>0.777438</td>\n",
       "      <td>1.0</td>\n",
       "      <td>1.0</td>\n",
       "      <td>0.840500</td>\n",
       "    </tr>\n",
       "    <tr>\n",
       "      <th>AUC</th>\n",
       "      <td>0.500442</td>\n",
       "      <td>1.0</td>\n",
       "      <td>1.0</td>\n",
       "      <td>0.707525</td>\n",
       "    </tr>\n",
       "  </tbody>\n",
       "</table>\n",
       "</div>"
      ],
      "text/plain": [
       "          logistic  decision_tree  random_forest       knn\n",
       "Accuracy  0.777438            1.0            1.0  0.840500\n",
       "AUC       0.500442            1.0            1.0  0.707525"
      ]
     },
     "execution_count": 37,
     "metadata": {},
     "output_type": "execute_result"
    }
   ],
   "source": [
    "#display the training performance of our 4 models\n",
    "pd.DataFrame(performances_training)"
   ]
  },
  {
   "cell_type": "markdown",
   "id": "ae1acdf8",
   "metadata": {},
   "source": [
    "##### Compute the same for test set "
   ]
  },
  {
   "cell_type": "code",
   "execution_count": 38,
   "id": "ee954754",
   "metadata": {},
   "outputs": [],
   "source": [
    "#test the model in the test set for the 4 algorithms and compute the accuracy & AUC score\n",
    "performances_testing = {}\n",
    "for model in models:\n",
    "    predictions = models[model].predict(X_test)\n",
    "    probabilities = pd.DataFrame(models[model].predict_proba(X_test))[1]\n",
    "    accuracy = accuracy_score(y_test, predictions)\n",
    "    auc = roc_auc_score(y_test, predictions)\n",
    "    performances_testing[model] = {\"Accuracy\":accuracy, \"AUC\":auc}"
   ]
  },
  {
   "cell_type": "code",
   "execution_count": 39,
   "id": "9fe822fd",
   "metadata": {},
   "outputs": [
    {
     "data": {
      "text/html": [
       "<div>\n",
       "<style scoped>\n",
       "    .dataframe tbody tr th:only-of-type {\n",
       "        vertical-align: middle;\n",
       "    }\n",
       "\n",
       "    .dataframe tbody tr th {\n",
       "        vertical-align: top;\n",
       "    }\n",
       "\n",
       "    .dataframe thead th {\n",
       "        text-align: right;\n",
       "    }\n",
       "</style>\n",
       "<table border=\"1\" class=\"dataframe\">\n",
       "  <thead>\n",
       "    <tr style=\"text-align: right;\">\n",
       "      <th></th>\n",
       "      <th>logistic</th>\n",
       "      <th>decision_tree</th>\n",
       "      <th>random_forest</th>\n",
       "      <th>knn</th>\n",
       "    </tr>\n",
       "  </thead>\n",
       "  <tbody>\n",
       "    <tr>\n",
       "      <th>Accuracy</th>\n",
       "      <td>0.785250</td>\n",
       "      <td>0.724500</td>\n",
       "      <td>0.828500</td>\n",
       "      <td>0.728500</td>\n",
       "    </tr>\n",
       "    <tr>\n",
       "      <th>AUC</th>\n",
       "      <td>0.500106</td>\n",
       "      <td>0.617609</td>\n",
       "      <td>0.665116</td>\n",
       "      <td>0.546317</td>\n",
       "    </tr>\n",
       "  </tbody>\n",
       "</table>\n",
       "</div>"
      ],
      "text/plain": [
       "          logistic  decision_tree  random_forest       knn\n",
       "Accuracy  0.785250       0.724500       0.828500  0.728500\n",
       "AUC       0.500106       0.617609       0.665116  0.546317"
      ]
     },
     "execution_count": 39,
     "metadata": {},
     "output_type": "execute_result"
    }
   ],
   "source": [
    "#display the training performance of our 4 models\n",
    "pd.DataFrame(performances_testing)"
   ]
  },
  {
   "cell_type": "markdown",
   "id": "c2e173a1",
   "metadata": {},
   "source": [
    "###### Initilialize SVM classifier"
   ]
  },
  {
   "cell_type": "code",
   "execution_count": 40,
   "id": "0f31a8f4",
   "metadata": {},
   "outputs": [
    {
     "data": {
      "text/plain": [
       "SVC()"
      ]
     },
     "execution_count": 40,
     "metadata": {},
     "output_type": "execute_result"
    }
   ],
   "source": [
    "#we define the classifier with the default parameters \n",
    "svc = SVC()\n",
    "\n",
    "#default parameter\n",
    "SVC(C=1.0, break_ties=False, cache_size=200, class_weight=None, coef0=0.0,\n",
    "    decision_function_shape='ovr', degree=3, gamma='scale', kernel='rbf',\n",
    "    max_iter=-1, probability=False, random_state = None, shrinking=True,\n",
    "    tol=0.001, verbose=False)"
   ]
  },
  {
   "cell_type": "code",
   "execution_count": 54,
   "id": "fc6db1cd",
   "metadata": {},
   "outputs": [
    {
     "name": "stdout",
     "output_type": "stream",
     "text": [
      "Accuracy :  0.7779375\n"
     ]
    }
   ],
   "source": [
    "#we fit the model with train dataset and we compute accuracy score\n",
    "svc.fit(X_train, y_train)\n",
    "score = svc.score(X_train, y_train)\n",
    "print(\"Accuracy : \", score)"
   ]
  },
  {
   "cell_type": "code",
   "execution_count": 44,
   "id": "58416a0c",
   "metadata": {},
   "outputs": [],
   "source": [
    "#initialize svm\n",
    "clf = svm.SVC()\n",
    "\n",
    "#fit the model\n",
    "clf.fit(X_train, y_train)\n",
    "\n",
    "#predict\n",
    "y_pred_train = clf.predict(X_train)"
   ]
  },
  {
   "cell_type": "code",
   "execution_count": 46,
   "id": "7a5869f3",
   "metadata": {},
   "outputs": [
    {
     "data": {
      "text/plain": [
       "0.5005622715771718"
      ]
     },
     "execution_count": 46,
     "metadata": {},
     "output_type": "execute_result"
    }
   ],
   "source": [
    "#compute AUC score with train set\n",
    "AUC = metrics.roc_auc_score(y_train, y_pred_train)\n",
    "AUC\n"
   ]
  },
  {
   "cell_type": "markdown",
   "id": "ed1e255e",
   "metadata": {},
   "source": [
    "##### score for test set "
   ]
  },
  {
   "cell_type": "code",
   "execution_count": 53,
   "id": "6b963d94",
   "metadata": {},
   "outputs": [
    {
     "name": "stdout",
     "output_type": "stream",
     "text": [
      "Accuracy:  0.786\n"
     ]
    }
   ],
   "source": [
    "#we fit the model with train dataset and we compute accuracy score\n",
    "svc.fit(X_test, y_test)\n",
    "score = svc.score(X_test, y_test)\n",
    "print(\"Accuracy: \", score)"
   ]
  },
  {
   "cell_type": "code",
   "execution_count": 50,
   "id": "05dcc8bf",
   "metadata": {},
   "outputs": [],
   "source": [
    "#predict with X_test\n",
    "y_pred_test = clf.predict(X_test)"
   ]
  },
  {
   "cell_type": "code",
   "execution_count": 52,
   "id": "c73ca45b",
   "metadata": {},
   "outputs": [
    {
     "data": {
      "text/plain": [
       "0.5"
      ]
     },
     "execution_count": 52,
     "metadata": {},
     "output_type": "execute_result"
    }
   ],
   "source": [
    "#compute AUC score with test set\n",
    "AUC = metrics.roc_auc_score(y_test, y_pred_test)\n",
    "AUC"
   ]
  },
  {
   "cell_type": "markdown",
   "id": "e6071f0b",
   "metadata": {},
   "source": [
    "# Feature selection and cross validation "
   ]
  },
  {
   "cell_type": "markdown",
   "id": "749c9c66",
   "metadata": {},
   "source": [
    "## 1) Random forest "
   ]
  },
  {
   "cell_type": "markdown",
   "id": "4004e4d8",
   "metadata": {},
   "source": [
    "###### 1.1 Features selection Random Forest"
   ]
  },
  {
   "cell_type": "code",
   "execution_count": 16,
   "id": "df63996e",
   "metadata": {},
   "outputs": [
    {
     "name": "stderr",
     "output_type": "stream",
     "text": [
      "[Parallel(n_jobs=1)]: Using backend SequentialBackend with 1 concurrent workers.\n",
      "[Parallel(n_jobs=1)]: Done   1 out of   1 | elapsed:   11.1s remaining:    0.0s\n",
      "[Parallel(n_jobs=1)]: Done  24 out of  24 | elapsed:  1.8min finished\n",
      "\n",
      "[2022-03-30 18:57:19] Features: 1/5 -- score: 0.81325[Parallel(n_jobs=1)]: Using backend SequentialBackend with 1 concurrent workers.\n",
      "[Parallel(n_jobs=1)]: Done   1 out of   1 | elapsed:    7.2s remaining:    0.0s\n",
      "[Parallel(n_jobs=1)]: Done  23 out of  23 | elapsed:  1.4min finished\n",
      "\n",
      "[2022-03-30 18:58:44] Features: 2/5 -- score: 0.8140000000000001[Parallel(n_jobs=1)]: Using backend SequentialBackend with 1 concurrent workers.\n",
      "[Parallel(n_jobs=1)]: Done   1 out of   1 | elapsed:    4.6s remaining:    0.0s\n",
      "[Parallel(n_jobs=1)]: Done  22 out of  22 | elapsed:  1.2min finished\n",
      "\n",
      "[2022-03-30 18:59:58] Features: 3/5 -- score: 0.81425[Parallel(n_jobs=1)]: Using backend SequentialBackend with 1 concurrent workers.\n",
      "[Parallel(n_jobs=1)]: Done   1 out of   1 | elapsed:    6.1s remaining:    0.0s\n",
      "[Parallel(n_jobs=1)]: Done  21 out of  21 | elapsed:  1.4min finished\n",
      "\n",
      "[2022-03-30 19:01:22] Features: 4/5 -- score: 0.812875[Parallel(n_jobs=1)]: Using backend SequentialBackend with 1 concurrent workers.\n",
      "[Parallel(n_jobs=1)]: Done   1 out of   1 | elapsed:    5.1s remaining:    0.0s\n",
      "[Parallel(n_jobs=1)]: Done  20 out of  20 | elapsed:  1.4min finished\n",
      "\n",
      "[2022-03-30 19:02:45] Features: 5/5 -- score: 0.8100625000000001"
     ]
    }
   ],
   "source": [
    "# Build RF classifier to use in feature selection\n",
    "clf = RandomForestClassifier(n_estimators=100, n_jobs=-1)\n",
    "\n",
    "# Build step forward feature selection\n",
    "sfs1 = sfs(clf,\n",
    "           k_features=5,\n",
    "           forward=True,\n",
    "           floating=False,\n",
    "           verbose=2,\n",
    "           scoring='accuracy',\n",
    "           cv=5)\n",
    "\n",
    "# Perform SFFS\n",
    "sfs1 = sfs1.fit(X_train, y_train)"
   ]
  },
  {
   "cell_type": "code",
   "execution_count": 17,
   "id": "7bf2a8c7",
   "metadata": {},
   "outputs": [
    {
     "name": "stdout",
     "output_type": "stream",
     "text": [
      "[3, 6, 7, 8, 9]\n"
     ]
    }
   ],
   "source": [
    "# Which features?\n",
    "feat_cols = list(sfs1.k_feature_idx_)\n",
    "print(feat_cols)"
   ]
  },
  {
   "cell_type": "markdown",
   "id": "9378bd39",
   "metadata": {},
   "source": [
    "###### 1.2 Cross validation - Random Forest"
   ]
  },
  {
   "cell_type": "code",
   "execution_count": 8,
   "id": "036a1427",
   "metadata": {},
   "outputs": [
    {
     "name": "stdout",
     "output_type": "stream",
     "text": [
      "{'bootstrap': [True, False],\n",
      " 'max_depth': [10, 20, 30, 40, 50, None],\n",
      " 'max_features': ['auto', 'sqrt'],\n",
      " 'min_samples_leaf': [1, 2, 4],\n",
      " 'min_samples_split': [2, 5, 10],\n",
      " 'n_estimators': [200, 400, 600, 800, 1000]}\n"
     ]
    }
   ],
   "source": [
    "from pprint import pprint\n",
    "from sklearn.model_selection import RandomizedSearchCV\n",
    "\n",
    "# Number of trees in random forest\n",
    "n_estimators = [int(x) for x in np.linspace(start = 200, stop = 1000, num = 5)]\n",
    "\n",
    "# Number of features to consider at every split\n",
    "max_features = ['auto', 'sqrt']\n",
    "\n",
    "# Maximum number of levels in tree\n",
    "max_depth = [int(x) for x in np.linspace(10, 50, num = 5)]\n",
    "max_depth.append(None)\n",
    "\n",
    "# Minimum number of samples required to split a node\n",
    "min_samples_split = [2, 5, 10]\n",
    "\n",
    "# Minimum number of samples required at each leaf node\n",
    "min_samples_leaf = [1, 2, 4]\n",
    "\n",
    "# Method of selecting samples for training each tree\n",
    "bootstrap = [True, False]\n",
    "\n",
    "# Create the random grid\n",
    "random_grid = {'n_estimators': n_estimators,\n",
    "               'max_features': max_features,\n",
    "               'max_depth': max_depth,\n",
    "               'min_samples_split': min_samples_split,\n",
    "               'min_samples_leaf': min_samples_leaf,\n",
    "               'bootstrap': bootstrap}\n",
    "pprint(random_grid)"
   ]
  },
  {
   "cell_type": "code",
   "execution_count": 12,
   "id": "a37f5799",
   "metadata": {},
   "outputs": [],
   "source": [
    "# Use the random grid to search for best hyperparameters\n",
    "# First create the base model to tune\n",
    "rf = RandomForestClassifier()\n",
    "# Random search of parameters, using 3 fold cross validation, \n",
    "# search across 100 different combinations, and use all available cores\n",
    "random_forest_cv = RandomizedSearchCV(estimator = rf, param_distributions = random_grid, n_iter = 100, cv = 3, verbose=2, random_state=42, n_jobs = -1)"
   ]
  },
  {
   "cell_type": "markdown",
   "id": "ab20892a",
   "metadata": {},
   "source": [
    "###### 1.3 fit the model with features selection and cross validation"
   ]
  },
  {
   "cell_type": "code",
   "execution_count": 42,
   "id": "e6319fee",
   "metadata": {},
   "outputs": [],
   "source": [
    "#select only the values selected above with features selection \n",
    "X_rf= data.iloc[:,[3, 6, 7, 8, 9]].values\n",
    "X_train_rf,X_test_rf,y_train_rf,y_test_rf = train_test_split(X_rf,y,test_size = 0.2,random_state = 42)"
   ]
  },
  {
   "cell_type": "code",
   "execution_count": 49,
   "id": "24995dd5",
   "metadata": {
    "scrolled": true
   },
   "outputs": [
    {
     "name": "stdout",
     "output_type": "stream",
     "text": [
      "Fitting 3 folds for each of 100 candidates, totalling 300 fits\n"
     ]
    },
    {
     "data": {
      "text/plain": [
       "RandomizedSearchCV(cv=3, estimator=RandomForestClassifier(), n_iter=100,\n",
       "                   n_jobs=-1,\n",
       "                   param_distributions={'bootstrap': [True, False],\n",
       "                                        'max_depth': [10, 20, 30, 40, 50, None],\n",
       "                                        'max_features': ['auto', 'sqrt'],\n",
       "                                        'min_samples_leaf': [1, 2, 4],\n",
       "                                        'min_samples_split': [2, 5, 10],\n",
       "                                        'n_estimators': [200, 400, 600, 800,\n",
       "                                                         1000]},\n",
       "                   random_state=42, verbose=2)"
      ]
     },
     "execution_count": 49,
     "metadata": {},
     "output_type": "execute_result"
    }
   ],
   "source": [
    "# Fit the random search model\n",
    "random_forest_cv.fit(X_train_rf, y_train_rf)"
   ]
  },
  {
   "cell_type": "code",
   "execution_count": 40,
   "id": "77c50225",
   "metadata": {},
   "outputs": [],
   "source": [
    "#train the model in the train set for logistic regression with feature selection and compute the accuracy score\n",
    "performances_training = {}\n",
    "predictions = random_forest_cv.predict(X_train_rf)\n",
    "probabilities = pd.DataFrame(random_forest_cv.predict_proba(X_train_rf))[1]\n",
    "accuracy = accuracy_score(y_train_rf, predictions)\n",
    "auc = roc_auc_score(y_train_rf, predictions)\n",
    "performances_training[random_forest_cv] = {\"Accuracy\":accuracy, \"AUC\":auc}"
   ]
  },
  {
   "cell_type": "code",
   "execution_count": 41,
   "id": "cd1bb637",
   "metadata": {},
   "outputs": [
    {
     "data": {
      "text/plain": [
       "{RandomizedSearchCV(cv=3, estimator=RandomForestClassifier(), n_iter=100,\n",
       "                    n_jobs=-1,\n",
       "                    param_distributions={'bootstrap': [True, False],\n",
       "                                         'max_depth': [10, 20, 30, 40, 50, None],\n",
       "                                         'max_features': ['auto', 'sqrt'],\n",
       "                                         'min_samples_leaf': [1, 2, 4],\n",
       "                                         'min_samples_split': [2, 5, 10],\n",
       "                                         'n_estimators': [200, 400, 600, 800,\n",
       "                                                          1000]},\n",
       "                    random_state=42, verbose=2): {'Accuracy': 0.826625,\n",
       "  'AUC': 0.6550369883463647}}"
      ]
     },
     "execution_count": 41,
     "metadata": {},
     "output_type": "execute_result"
    }
   ],
   "source": [
    "performances_training"
   ]
  },
  {
   "cell_type": "code",
   "execution_count": 30,
   "id": "97638372",
   "metadata": {},
   "outputs": [],
   "source": [
    "#predict and test the model in the test set for the logistic regression and compute the accuracy score\n",
    "performances_test = {}\n",
    "predictions = random_forest_cv.predict(X_test_rf)\n",
    "probabilities = pd.DataFrame(random_forest_cv.predict_proba(X_test_rf))[1]\n",
    "accuracy = accuracy_score(y_test_rf, predictions)\n",
    "auc = roc_auc_score(y_test_rf, predictions)\n",
    "performances_test[random_forest_cv] = {\"Accuracy\":accuracy, \"AUC\":auc}"
   ]
  },
  {
   "cell_type": "code",
   "execution_count": 31,
   "id": "5f138a1e",
   "metadata": {},
   "outputs": [
    {
     "data": {
      "text/plain": [
       "{RandomizedSearchCV(cv=3, estimator=RandomForestClassifier(), n_iter=100,\n",
       "                    n_jobs=-1,\n",
       "                    param_distributions={'bootstrap': [True, False],\n",
       "                                         'max_depth': [10, 20, 30, 40, 50, None],\n",
       "                                         'max_features': ['auto', 'sqrt'],\n",
       "                                         'min_samples_leaf': [1, 2, 4],\n",
       "                                         'min_samples_split': [2, 5, 10],\n",
       "                                         'n_estimators': [200, 400, 600, 800,\n",
       "                                                          1000]},\n",
       "                    random_state=42, verbose=2): {'Accuracy': 0.825,\n",
       "  'AUC': 0.665010612384915}}"
      ]
     },
     "execution_count": 31,
     "metadata": {},
     "output_type": "execute_result"
    }
   ],
   "source": [
    "performances_test"
   ]
  },
  {
   "cell_type": "markdown",
   "id": "b6a05d16",
   "metadata": {},
   "source": [
    "# 2) Logistic regression "
   ]
  },
  {
   "cell_type": "markdown",
   "id": "acb8398c",
   "metadata": {},
   "source": [
    "###### 2.1 Features importance - Logistic regression "
   ]
  },
  {
   "cell_type": "code",
   "execution_count": 29,
   "id": "d8e06543",
   "metadata": {},
   "outputs": [],
   "source": [
    "logistic = LogisticRegression()"
   ]
  },
  {
   "cell_type": "code",
   "execution_count": 30,
   "id": "b05195c2",
   "metadata": {},
   "outputs": [
    {
     "name": "stderr",
     "output_type": "stream",
     "text": [
      "C:\\tools\\Anaconda3\\envs\\py\\lib\\site-packages\\sklearn\\linear_model\\_logistic.py:763: ConvergenceWarning: lbfgs failed to converge (status=1):\n",
      "STOP: TOTAL NO. of ITERATIONS REACHED LIMIT.\n",
      "\n",
      "Increase the number of iterations (max_iter) or scale the data as shown in:\n",
      "    https://scikit-learn.org/stable/modules/preprocessing.html\n",
      "Please also refer to the documentation for alternative solver options:\n",
      "    https://scikit-learn.org/stable/modules/linear_model.html#logistic-regression\n",
      "  n_iter_i = _check_optimize_result(\n"
     ]
    },
    {
     "data": {
      "text/plain": [
       "LogisticRegression()"
      ]
     },
     "execution_count": 30,
     "metadata": {},
     "output_type": "execute_result"
    }
   ],
   "source": [
    "logistic.fit(X,y)"
   ]
  },
  {
   "cell_type": "code",
   "execution_count": 34,
   "id": "820fab0e",
   "metadata": {},
   "outputs": [
    {
     "name": "stdout",
     "output_type": "stream",
     "text": [
      "Feature: 0, Score: -0.00003\n",
      "Feature: 1, Score: -0.00000\n",
      "Feature: 2, Score: -0.00000\n",
      "Feature: 3, Score: -0.00000\n",
      "Feature: 4, Score: -0.00000\n",
      "Feature: 5, Score: -0.00003\n",
      "Feature: 6, Score: 0.00001\n",
      "Feature: 7, Score: 0.00000\n",
      "Feature: 8, Score: 0.00000\n",
      "Feature: 9, Score: 0.00000\n",
      "Feature: 10, Score: 0.00000\n",
      "Feature: 11, Score: 0.00000\n",
      "Feature: 12, Score: -0.00001\n",
      "Feature: 13, Score: 0.00000\n",
      "Feature: 14, Score: 0.00000\n",
      "Feature: 15, Score: -0.00000\n",
      "Feature: 16, Score: 0.00000\n",
      "Feature: 17, Score: 0.00000\n",
      "Feature: 18, Score: -0.00003\n",
      "Feature: 19, Score: -0.00003\n",
      "Feature: 20, Score: -0.00001\n",
      "Feature: 21, Score: -0.00002\n",
      "Feature: 22, Score: -0.00001\n",
      "Feature: 23, Score: -0.00000\n"
     ]
    },
    {
     "data": {
      "image/png": "[encoded data removed]",
      "text/plain": [
       "<Figure size 432x288 with 1 Axes>"
      ]
     },
     "metadata": {
      "needs_background": "light"
     },
     "output_type": "display_data"
    }
   ],
   "source": [
    "from matplotlib import pyplot\n",
    "# summarize feature importance\n",
    "for i,v in enumerate(importance):\n",
    "    print('Feature: %0d, Score: %.5f' % (i,v))\n",
    "# plot feature importance\n",
    "pyplot.bar([x for x in range(len(importance))], importance)\n",
    "pyplot.show()"
   ]
  },
  {
   "cell_type": "markdown",
   "id": "e5238ed5",
   "metadata": {},
   "source": [
    "Here we can see that there is no clear pattern in importances of the features"
   ]
  },
  {
   "cell_type": "markdown",
   "id": "0b9024b1",
   "metadata": {},
   "source": [
    "###### 2.2 Cross validation - Logistic regression "
   ]
  },
  {
   "cell_type": "code",
   "execution_count": 63,
   "id": "c5c29d6b",
   "metadata": {},
   "outputs": [
    {
     "data": {
      "text/plain": [
       "LogisticRegression(C=0.1, penalty='l1', solver='liblinear')"
      ]
     },
     "execution_count": 63,
     "metadata": {},
     "output_type": "execute_result"
    }
   ],
   "source": [
    "# Perform GridSearchCV to tune best-fit LR model\n",
    "param = {'C': [10**-2,10**-1,10**0,10**1,10**2]}\n",
    "\n",
    "lr_model = LogisticRegression(penalty='l1', solver='liblinear')\n",
    "gs_model = GridSearchCV(estimator=lr_model, param_grid=param)\n",
    "gs_model.fit(X_train, y_train)\n",
    "\n",
    "# Train a LR model with best parameters\n",
    "model = LogisticRegression(**gs_model.best_params_, penalty='l1', solver='liblinear')\n",
    "model.fit(X_train, y_train)"
   ]
  },
  {
   "cell_type": "code",
   "execution_count": 64,
   "id": "ccafdf0d",
   "metadata": {},
   "outputs": [],
   "source": [
    "#apply the best fit parameters compute above to the logistic regression\n",
    "model2 = LogisticRegression(C=0.1, penalty='l1', solver='liblinear')"
   ]
  },
  {
   "cell_type": "markdown",
   "id": "dac9a88c",
   "metadata": {},
   "source": [
    " ###### 2.3 Fit the logistic model with cross validation parameters"
   ]
  },
  {
   "cell_type": "code",
   "execution_count": 65,
   "id": "cb0e8e7d",
   "metadata": {},
   "outputs": [
    {
     "data": {
      "text/plain": [
       "LogisticRegression(C=0.1, penalty='l1', solver='liblinear')"
      ]
     },
     "execution_count": 65,
     "metadata": {},
     "output_type": "execute_result"
    }
   ],
   "source": [
    "#fit the model to the train set\n",
    "model2.fit(X_train, y_train)"
   ]
  },
  {
   "cell_type": "code",
   "execution_count": 66,
   "id": "7dbb9b7c",
   "metadata": {},
   "outputs": [],
   "source": [
    "#predict on the test set\n",
    "y_pred = model2.predict(X_test)"
   ]
  },
  {
   "cell_type": "code",
   "execution_count": 70,
   "id": "025338a5",
   "metadata": {},
   "outputs": [],
   "source": [
    "#train the model in the train set for logistic regression with feature selection and compute the accuracy score\n",
    "performances_training = {}\n",
    "predictions = model2.predict(X_train)\n",
    "probabilities = pd.DataFrame(model2.predict_proba(X_train))[1]\n",
    "accuracy = accuracy_score(y_train, predictions)\n",
    "auc = roc_auc_score(y_train, predictions)\n",
    "performances_training[model2] = {\"Accuracy\":accuracy, \"AUC\":auc}"
   ]
  },
  {
   "cell_type": "code",
   "execution_count": 71,
   "id": "e93d999d",
   "metadata": {},
   "outputs": [
    {
     "data": {
      "text/plain": [
       "{LogisticRegression(C=0.1, penalty='l1', solver='liblinear'): {'Accuracy': 0.804875,\n",
       "  'AUC': 0.5917643549327695}}"
      ]
     },
     "execution_count": 71,
     "metadata": {},
     "output_type": "execute_result"
    }
   ],
   "source": [
    "#display the new training performance of logistic regression on the train set\n",
    "performances_training"
   ]
  },
  {
   "cell_type": "code",
   "execution_count": 73,
   "id": "08aa8972",
   "metadata": {},
   "outputs": [],
   "source": [
    "#predict and test the model in the test set for the logistic regression and compute the accuracy score\n",
    "performances_test = {}\n",
    "predictions = model2.predict(X_test)\n",
    "probabilities = pd.DataFrame(model2.predict_proba(X_test))[1]\n",
    "accuracy = accuracy_score(y_test, predictions)\n",
    "auc = roc_auc_score(y_test, predictions)\n",
    "performances_test[model2] = {\"Accuracy\":accuracy, \"AUC\":auc}"
   ]
  },
  {
   "cell_type": "code",
   "execution_count": 74,
   "id": "a0423ded",
   "metadata": {},
   "outputs": [
    {
     "data": {
      "text/plain": [
       "{LogisticRegression(C=0.1, penalty='l1', solver='liblinear'): {'Accuracy': 0.8225,\n",
       "  'AUC': 0.6146198828238263}}"
      ]
     },
     "execution_count": 74,
     "metadata": {},
     "output_type": "execute_result"
    }
   ],
   "source": [
    "#display the test performance of logistic regression on the test set\n",
    "performances_test"
   ]
  },
  {
   "cell_type": "markdown",
   "id": "603d8a05",
   "metadata": {},
   "source": [
    "We can see that the gap between train and test accuracy is reduce a lot. Then the model is far more accurate than without features selection and cross validation"
   ]
  },
  {
   "cell_type": "markdown",
   "id": "48173ca5",
   "metadata": {},
   "source": [
    "# 3) Decision tree algorithm "
   ]
  },
  {
   "cell_type": "markdown",
   "id": "c47b57aa",
   "metadata": {},
   "source": [
    "###### 3.1     Features importances - Decision Tree"
   ]
  },
  {
   "cell_type": "code",
   "execution_count": 40,
   "id": "e7320586",
   "metadata": {},
   "outputs": [],
   "source": [
    "# decision tree for feature importance on a regression problem\n",
    "from sklearn.datasets import make_regression\n",
    "from sklearn.tree import DecisionTreeRegressor\n",
    "from matplotlib import pyplot"
   ]
  },
  {
   "cell_type": "code",
   "execution_count": 41,
   "id": "b62cc536",
   "metadata": {},
   "outputs": [],
   "source": [
    "decision_tree = DecisionTreeRegressor()"
   ]
  },
  {
   "cell_type": "code",
   "execution_count": 43,
   "id": "92c584aa",
   "metadata": {},
   "outputs": [
    {
     "data": {
      "text/plain": [
       "DecisionTreeRegressor()"
      ]
     },
     "execution_count": 43,
     "metadata": {},
     "output_type": "execute_result"
    }
   ],
   "source": [
    "decision_tree.fit(X,y)"
   ]
  },
  {
   "cell_type": "code",
   "execution_count": 45,
   "id": "3bf39bfc",
   "metadata": {},
   "outputs": [
    {
     "name": "stdout",
     "output_type": "stream",
     "text": [
      "Feature: 0, Score: 0.09154\n",
      "Feature: 1, Score: 0.04884\n",
      "Feature: 2, Score: 0.01319\n",
      "Feature: 3, Score: 0.02010\n",
      "Feature: 4, Score: 0.01380\n",
      "Feature: 5, Score: 0.05613\n",
      "Feature: 6, Score: 0.15011\n",
      "Feature: 7, Score: 0.03203\n",
      "Feature: 8, Score: 0.00863\n",
      "Feature: 9, Score: 0.01333\n",
      "Feature: 10, Score: 0.00789\n",
      "Feature: 11, Score: 0.01233\n",
      "Feature: 12, Score: 0.06019\n",
      "Feature: 13, Score: 0.04335\n",
      "Feature: 14, Score: 0.03921\n",
      "Feature: 15, Score: 0.04069\n",
      "Feature: 16, Score: 0.04406\n",
      "Feature: 17, Score: 0.04530\n",
      "Feature: 18, Score: 0.03896\n",
      "Feature: 19, Score: 0.05251\n",
      "Feature: 20, Score: 0.03601\n",
      "Feature: 21, Score: 0.04109\n",
      "Feature: 22, Score: 0.04196\n",
      "Feature: 23, Score: 0.04874\n"
     ]
    },
    {
     "data": {
      "image/png": "[encoded data removed]",
      "text/plain": [
       "<Figure size 432x288 with 1 Axes>"
      ]
     },
     "metadata": {
      "needs_background": "light"
     },
     "output_type": "display_data"
    }
   ],
   "source": [
    "importance = decision_tree.feature_importances_\n",
    "# summarize feature importance\n",
    "for i,v in enumerate(importance):\n",
    "    print('Feature: %0d, Score: %.5f' % (i,v))\n",
    "# plot feature importance\n",
    "pyplot.bar([x for x in range(len(importance))], importance)\n",
    "pyplot.show()"
   ]
  },
  {
   "cell_type": "markdown",
   "id": "0531a4d2",
   "metadata": {},
   "source": [
    "Result show that we could take features 0,5,6,12,19 according to the more importance there is to explain Y"
   ]
  },
  {
   "cell_type": "markdown",
   "id": "42bfffcc",
   "metadata": {},
   "source": [
    "###### 3.2 Cross validation - Decision Tree"
   ]
  },
  {
   "cell_type": "code",
   "execution_count": 17,
   "id": "b80f46d8",
   "metadata": {},
   "outputs": [],
   "source": [
    "#Let's do cross validation to select the best parameters for our decision tree algorithm\n",
    "params = {'max_leaf_nodes': list(range(2, 100)), 'min_samples_split': [2, 3, 4]}\n",
    "grid_search_cv = GridSearchCV(DecisionTreeClassifier(random_state=42), params, verbose=1, cv=3)"
   ]
  },
  {
   "cell_type": "markdown",
   "id": "4f5e10ef",
   "metadata": {},
   "source": [
    " ###### 3.3 Fit the logistic model with cross validation parameters and features selection"
   ]
  },
  {
   "cell_type": "code",
   "execution_count": 15,
   "id": "4a5d28ec",
   "metadata": {},
   "outputs": [],
   "source": [
    "#select only the values selected above with features importances \n",
    "X_dt= data.iloc[:,[0,5,6,12,19]].values\n",
    "X_train_dt,X_test_dt,y_train_dt,y_test_dt = train_test_split(X_dt,y,test_size = 0.2,random_state = 42)"
   ]
  },
  {
   "cell_type": "code",
   "execution_count": 18,
   "id": "9199d745",
   "metadata": {},
   "outputs": [
    {
     "name": "stdout",
     "output_type": "stream",
     "text": [
      "Fitting 3 folds for each of 294 candidates, totalling 882 fits\n"
     ]
    },
    {
     "data": {
      "text/plain": [
       "GridSearchCV(cv=3, estimator=DecisionTreeClassifier(random_state=42),\n",
       "             param_grid={'max_leaf_nodes': [2, 3, 4, 5, 6, 7, 8, 9, 10, 11, 12,\n",
       "                                            13, 14, 15, 16, 17, 18, 19, 20, 21,\n",
       "                                            22, 23, 24, 25, 26, 27, 28, 29, 30,\n",
       "                                            31, ...],\n",
       "                         'min_samples_split': [2, 3, 4]},\n",
       "             verbose=1)"
      ]
     },
     "execution_count": 18,
     "metadata": {},
     "output_type": "execute_result"
    }
   ],
   "source": [
    "grid_search_cv.fit(X_train_dt, y_train_dt)"
   ]
  },
  {
   "cell_type": "code",
   "execution_count": 79,
   "id": "e25dd943",
   "metadata": {},
   "outputs": [],
   "source": [
    "y_pred = grid_search_cv.predict(X_test)"
   ]
  },
  {
   "cell_type": "code",
   "execution_count": 20,
   "id": "bf673dd9",
   "metadata": {},
   "outputs": [],
   "source": [
    "performances_training = {}\n",
    "predictions = grid_search_cv.predict(X_train_dt)\n",
    "probabilities = pd.DataFrame(grid_search_cv.predict_proba(X_train_dt))[1]\n",
    "accuracy = accuracy_score(y_train_dt, predictions)\n",
    "auc = roc_auc_score(y_train_dt, predictions)\n",
    "performances_training[grid_search_cv] = {\"Accuracy\":accuracy, \"AUC\":auc}"
   ]
  },
  {
   "cell_type": "code",
   "execution_count": 21,
   "id": "609c6568",
   "metadata": {},
   "outputs": [
    {
     "data": {
      "text/plain": [
       "{GridSearchCV(cv=3, estimator=DecisionTreeClassifier(random_state=42),\n",
       "              param_grid={'max_leaf_nodes': [2, 3, 4, 5, 6, 7, 8, 9, 10, 11, 12,\n",
       "                                             13, 14, 15, 16, 17, 18, 19, 20, 21,\n",
       "                                             22, 23, 24, 25, 26, 27, 28, 29, 30,\n",
       "                                             31, ...],\n",
       "                          'min_samples_split': [2, 3, 4]},\n",
       "              verbose=1): {'Accuracy': 0.8133125, 'AUC': 0.6327252609261178}}"
      ]
     },
     "execution_count": 21,
     "metadata": {},
     "output_type": "execute_result"
    }
   ],
   "source": [
    "#show the train results\n",
    "performances_training"
   ]
  },
  {
   "cell_type": "code",
   "execution_count": 22,
   "id": "9be5e902",
   "metadata": {},
   "outputs": [],
   "source": [
    "#predict and test the model in the test set for the logistic regression and compute the accuracy score\n",
    "performances_test = {}\n",
    "predictions = grid_search_cv.predict(X_test_dt)\n",
    "probabilities = pd.DataFrame(grid_search_cv.predict_proba(X_test_dt))[1]\n",
    "accuracy = accuracy_score(y_test_dt, predictions)\n",
    "auc = roc_auc_score(y_test_dt, predictions)\n",
    "performances_test[grid_search_cv] = {\"Accuracy\":accuracy, \"AUC\":auc}"
   ]
  },
  {
   "cell_type": "code",
   "execution_count": 23,
   "id": "d684dbf2",
   "metadata": {},
   "outputs": [
    {
     "data": {
      "text/plain": [
       "{GridSearchCV(cv=3, estimator=DecisionTreeClassifier(random_state=42),\n",
       "              param_grid={'max_leaf_nodes': [2, 3, 4, 5, 6, 7, 8, 9, 10, 11, 12,\n",
       "                                             13, 14, 15, 16, 17, 18, 19, 20, 21,\n",
       "                                             22, 23, 24, 25, 26, 27, 28, 29, 30,\n",
       "                                             31, ...],\n",
       "                          'min_samples_split': [2, 3, 4]},\n",
       "              verbose=1): {'Accuracy': 0.83225, 'AUC': 0.6594397135974035}}"
      ]
     },
     "execution_count": 23,
     "metadata": {},
     "output_type": "execute_result"
    }
   ],
   "source": [
    "#show the test results\n",
    "performances_test"
   ]
  },
  {
   "cell_type": "markdown",
   "id": "82f04e99",
   "metadata": {},
   "source": [
    "# 4) K-Nearest neighbours’ algorithm"
   ]
  },
  {
   "cell_type": "markdown",
   "id": "bb168cec",
   "metadata": {},
   "source": [
    "###### 4.1 Cross validation - KNN"
   ]
  },
  {
   "cell_type": "code",
   "execution_count": 43,
   "id": "f8d1555e",
   "metadata": {},
   "outputs": [
    {
     "name": "stdout",
     "output_type": "stream",
     "text": [
      "[0.726   0.72575 0.72525 0.72875 0.72575]\n",
      "cv_scores mean:0.7263000000000001\n"
     ]
    }
   ],
   "source": [
    "from sklearn.model_selection import cross_val_score\n",
    "import numpy as np#create a new KNN model\n",
    "knn_cv = KNeighborsClassifier(n_neighbors=3)#train model with cv of 5 \n",
    "cv_scores = cross_val_score(knn_cv, X, y, cv=5)#print each cv score (accuracy) and average them\n",
    "print(cv_scores)\n",
    "print(\"cv_scores mean:{}\".format(np.mean(cv_scores)))"
   ]
  },
  {
   "cell_type": "code",
   "execution_count": 88,
   "id": "46424e05",
   "metadata": {},
   "outputs": [],
   "source": [
    "#create new a knn model\n",
    "from sklearn.model_selection import GridSearchCV\n",
    "\n",
    "#create a dictionary of all values we want to test for n_neighbors\n",
    "knn2 = KNeighborsClassifier()\n",
    "\n",
    "#use gridsearch to test all values for n_neighbors\n",
    "param_grid = {\"n_neighbors\": np.arange(1, 25)}"
   ]
  },
  {
   "cell_type": "markdown",
   "id": "8c2cf347",
   "metadata": {},
   "source": [
    "###### 4.2 Fit the model with cross validation"
   ]
  },
  {
   "cell_type": "code",
   "execution_count": 92,
   "id": "f1f4010d",
   "metadata": {},
   "outputs": [
    {
     "data": {
      "text/plain": [
       "GridSearchCV(cv=5, estimator=KNeighborsClassifier(),\n",
       "             param_grid={'n_neighbors': array([ 1,  2,  3,  4,  5,  6,  7,  8,  9, 10, 11, 12, 13, 14, 15, 16, 17,\n",
       "       18, 19, 20, 21, 22, 23, 24])})"
      ]
     },
     "execution_count": 92,
     "metadata": {},
     "output_type": "execute_result"
    }
   ],
   "source": [
    "#fit model to data\n",
    "knn_gscv = GridSearchCV(knn2, param_grid, cv=5)\n",
    "knn_gscv.fit(X_train, y_train)"
   ]
  },
  {
   "cell_type": "code",
   "execution_count": 93,
   "id": "19241d3c",
   "metadata": {},
   "outputs": [],
   "source": [
    "performances_training = {}\n",
    "predictions = knn_gscv.predict(X_train)\n",
    "probabilities = pd.DataFrame(knn_gscv.predict_proba(X_train))[1]\n",
    "accuracy = accuracy_score(y_train, predictions)\n",
    "auc = roc_auc_score(y_train, predictions)\n",
    "performances_training[knn_gscv] = {\"Accuracy\":accuracy, \"AUC\":auc}"
   ]
  },
  {
   "cell_type": "code",
   "execution_count": 94,
   "id": "1134a969",
   "metadata": {},
   "outputs": [
    {
     "data": {
      "text/plain": [
       "{GridSearchCV(cv=5, estimator=KNeighborsClassifier(),\n",
       "              param_grid={'n_neighbors': array([ 1,  2,  3,  4,  5,  6,  7,  8,  9, 10, 11, 12, 13, 14, 15, 16, 17,\n",
       "        18, 19, 20, 21, 22, 23, 24])}): {'Accuracy': 0.7825,\n",
       "  'AUC': 0.5294952743859765}}"
      ]
     },
     "execution_count": 94,
     "metadata": {},
     "output_type": "execute_result"
    }
   ],
   "source": [
    "performances_training"
   ]
  },
  {
   "cell_type": "code",
   "execution_count": 95,
   "id": "52364afc",
   "metadata": {},
   "outputs": [],
   "source": [
    "#predict and test the model in the test set for the logistic regression and compute the accuracy score\n",
    "performances_test = {}\n",
    "predictions = knn_gscv.predict(X_test)\n",
    "probabilities = pd.DataFrame(knn_gscv.predict_proba(X_test))[1]\n",
    "accuracy = accuracy_score(y_test, predictions)\n",
    "auc = roc_auc_score(y_test, predictions)\n",
    "performances_test[knn_gscv] = {\"Accuracy\":accuracy, \"AUC\":auc}"
   ]
  },
  {
   "cell_type": "code",
   "execution_count": 96,
   "id": "6fc8e473",
   "metadata": {},
   "outputs": [
    {
     "data": {
      "text/plain": [
       "{GridSearchCV(cv=5, estimator=KNeighborsClassifier(),\n",
       "              param_grid={'n_neighbors': array([ 1,  2,  3,  4,  5,  6,  7,  8,  9, 10, 11, 12, 13, 14, 15, 16, 17,\n",
       "        18, 19, 20, 21, 22, 23, 24])}): {'Accuracy': 0.78475,\n",
       "  'AUC': 0.522278397550297}}"
      ]
     },
     "execution_count": 96,
     "metadata": {},
     "output_type": "execute_result"
    }
   ],
   "source": [
    "performances_test"
   ]
  },
  {
   "cell_type": "markdown",
   "id": "172d5db9",
   "metadata": {},
   "source": [
    "# 5) Support Vector Machine Algorithm"
   ]
  },
  {
   "cell_type": "markdown",
   "id": "b1fbaf05",
   "metadata": {},
   "source": [
    "###### 5.1 Cross validation - Support vector machine"
   ]
  },
  {
   "cell_type": "code",
   "execution_count": 33,
   "id": "79e5b70a",
   "metadata": {},
   "outputs": [
    {
     "name": "stdout",
     "output_type": "stream",
     "text": [
      "SVC()\n"
     ]
    }
   ],
   "source": [
    "#we define the classifier with the default parameters \n",
    "svc = SVC()\n",
    "print(svc)"
   ]
  },
  {
   "cell_type": "code",
   "execution_count": 34,
   "id": "5e70a641",
   "metadata": {},
   "outputs": [
    {
     "data": {
      "text/plain": [
       "SVC()"
      ]
     },
     "execution_count": 34,
     "metadata": {},
     "output_type": "execute_result"
    }
   ],
   "source": [
    "#default parameter\n",
    "SVC(C=1.0, break_ties=False, cache_size=200, class_weight=None, coef0=0.0,\n",
    "    decision_function_shape='ovr', degree=3, gamma='scale', kernel='rbf',\n",
    "    max_iter=-1, probability=False, random_state=None, shrinking=True,\n",
    "    tol=0.001, verbose=False)"
   ]
  },
  {
   "cell_type": "code",
   "execution_count": 35,
   "id": "0f57011f",
   "metadata": {},
   "outputs": [
    {
     "data": {
      "text/plain": [
       "SVC()"
      ]
     },
     "execution_count": 35,
     "metadata": {},
     "output_type": "execute_result"
    }
   ],
   "source": [
    "#fit support vector machine model\n",
    "svc.fit(X_train, y_train)"
   ]
  },
  {
   "cell_type": "code",
   "execution_count": 36,
   "id": "2778cb44",
   "metadata": {},
   "outputs": [
    {
     "name": "stdout",
     "output_type": "stream",
     "text": [
      "CV average score: 0.78\n"
     ]
    }
   ],
   "source": [
    "#we can also apply an accuracy score to our train set with 10 fold cross validation\n",
    "\n",
    "cv_scores = cross_val_score(svc, X_train, y_train, cv=10)\n",
    "print(\"CV average score: %.2f\" % cv_scores.mean())"
   ]
  },
  {
   "cell_type": "code",
   "execution_count": 37,
   "id": "7dfd9ce1",
   "metadata": {},
   "outputs": [
    {
     "name": "stdout",
     "output_type": "stream",
     "text": [
      "CV average score: 0.79\n"
     ]
    }
   ],
   "source": [
    "#we can also apply an accuracy score to our test set with 10 fold cross validation\n",
    "\n",
    "cv_scores_test = cross_val_score(svc, X_test, y_test, cv=10)\n",
    "print(\"CV average score: %.2f\" % cv_scores_test.mean())"
   ]
  }
 ],
 "metadata": {
  "kernelspec": {
   "display_name": "Python 3",
   "language": "python",
   "name": "python3"
  },
  "language_info": {
   "codemirror_mode": {
    "name": "ipython",
    "version": 3
   },
   "file_extension": ".py",
   "mimetype": "text/x-python",
   "name": "python",
   "nbconvert_exporter": "python",
   "pygments_lexer": "ipython3",
   "version": "3.9.4"
  }
 },
 "nbformat": 4,
 "nbformat_minor": 5
}
